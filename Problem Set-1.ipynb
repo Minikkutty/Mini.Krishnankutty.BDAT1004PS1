{
 "cells": [
  {
   "cell_type": "markdown",
   "id": "85b0afb4",
   "metadata": {},
   "source": [
    "1) What data type is each of the following (evaluate where necessary)?"
   ]
  },
  {
   "cell_type": "code",
   "execution_count": 12,
   "id": "f33fb2f6",
   "metadata": {},
   "outputs": [
    {
     "name": "stdout",
     "output_type": "stream",
     "text": [
      "5 <class 'int'>\n",
      "5.0 <class 'float'>\n",
      "True <class 'bool'>\n",
      "5 <class 'str'>\n",
      "10 <class 'int'>\n",
      "55 <class 'str'>\n",
      "52 <class 'str'>\n",
      "2.5 <class 'float'>\n",
      "1 <class 'int'>\n",
      "{5, 2, 1} <class 'set'>\n",
      "False <class 'bool'>\n",
      "Pi (the number) <class 'float'>\n"
     ]
    }
   ],
   "source": [
    "print( '5',type(5))\n",
    "print( '5.0',type(5.0))\n",
    "print( 5 > 1,type(5 > 1))\n",
    "print( '5',type('5'))\n",
    "print( 5 * 2, type (5 * 2))\n",
    "print( '5' * 2,type ('5' * 2))\n",
    "print( '5' + '2',type ('5' + '2'))\n",
    "print( 5 / 2,type (5 / 2))\n",
    "print( 5 % 2,type (5 % 2))\n",
    "print( '{5, 2, 1}',type({5, 2, 1}))\n",
    "print( 5 == 3,type(5 == 3))\n",
    "print( 'Pi (the number)',type(3.1415916535897743))"
   ]
  },
  {
   "cell_type": "markdown",
   "id": "d2439d5b",
   "metadata": {},
   "source": [
    "2a) How many letters are there in 'Supercalifragilisticexpialidocious'?\n",
    "\n",
    "Ans ) 34"
   ]
  },
  {
   "cell_type": "code",
   "execution_count": 27,
   "id": "3f0eee3f",
   "metadata": {},
   "outputs": [
    {
     "name": "stdout",
     "output_type": "stream",
     "text": [
      "The string is :Supercalifragilisticexpialidocious\n",
      "Total no. of letters:  34\n"
     ]
    }
   ],
   "source": [
    "string1= input(\"The string is :\")\n",
    "print(\"Total no. of letters: \",len(string1))\n"
   ]
  },
  {
   "cell_type": "markdown",
   "id": "21db138b",
   "metadata": {},
   "source": [
    "2b) Does 'Supercalifragilisticexpialidocious' contain 'ice' as a substring?\n",
    "\n",
    "Ans) Yes, Supercalifragilisticexpialidocious does contain 'ice' as a substring."
   ]
  },
  {
   "cell_type": "code",
   "execution_count": 17,
   "id": "c62e60c6",
   "metadata": {},
   "outputs": [
    {
     "name": "stdout",
     "output_type": "stream",
     "text": [
      "Input the string: Supercalifragilisticexpialidocious\n",
      "Yes, ice is a substring.\n"
     ]
    }
   ],
   "source": [
    "string1 = input(\"Input the string: \")\n",
    "\n",
    "# To find 'ice' as a substring\n",
    "if str('ice') in string1:\n",
    "        print(\"Yes, ice is a substring.\")\n",
    "else:\n",
    "        print(\"No,'ice' is not a substring\")"
   ]
  },
  {
   "cell_type": "markdown",
   "id": "ede9db4e",
   "metadata": {},
   "source": [
    "2c) Which of the following words is the longest: \n",
    "Supercalifragilisticexpialidocious, Honorificabilitudinitatibus, or \n",
    "Bababadalgharaghtakamminarronnkonn? \n",
    "\n",
    "Ans) Both Supercalifragilisticexpialidocious and Bababadalgharaghtakamminarronnkonn have 34 letters making them the longest."
   ]
  },
  {
   "cell_type": "code",
   "execution_count": 1,
   "id": "41d75d22",
   "metadata": {},
   "outputs": [
    {
     "name": "stdout",
     "output_type": "stream",
     "text": [
      "List of words:  ['Supercalifragilisticexpialidocious', 'Honorificabilitudinitatibus', 'Bababadalgharaghtakamminarronnkonn']\n",
      "Longest word count is:  [(34, 'Supercalifragilisticexpialidocious'), (27, 'Honorificabilitudinitatibus'), (34, 'Bababadalgharaghtakamminarronnkonn')]\n"
     ]
    }
   ],
   "source": [
    "def find_longest_word(list1):\n",
    "    Total_length = []\n",
    "    for word in list1:\n",
    "        #Calculates the longest words by specifying its letter count and word\n",
    "            Total_length.append ((len(word), word))\n",
    "            \n",
    "    return Total_length\n",
    "        \n",
    "list1 = ['Supercalifragilisticexpialidocious','Honorificabilitudinitatibus','Bababadalgharaghtakamminarronnkonn']\n",
    "print(\"List of words: \", list1)\n",
    "print(\"Longest word count is: \", find_longest_word(list1))\n"
   ]
  },
  {
   "cell_type": "markdown",
   "id": "63324a40",
   "metadata": {},
   "source": [
    "2d) Which composer comes first in the dictionary: 'Berlioz', 'Borodin', 'Brian', \n",
    "'Bartok', 'Bellini', 'Buxtehude', 'Bernstein'. Which one comes last\n",
    "\n",
    "\n",
    "Ans 2d) Bartok comes first and Buxtehude comes last."
   ]
  },
  {
   "cell_type": "code",
   "execution_count": 26,
   "id": "7edd5a21",
   "metadata": {},
   "outputs": [
    {
     "name": "stdout",
     "output_type": "stream",
     "text": [
      "['Bartok', 'Bellini', 'Berlioz', 'Bernstein', 'Borodin', 'Brian', 'Buxtehude']\n",
      "The composer that comes first in the dictionary is:  Bartok\n",
      "The composer that comes last in the dictionary is:  Buxtehude\n"
     ]
    }
   ],
   "source": [
    "list = ['Berlioz', 'Borodin', 'Brian', 'Bartok', 'Bellini', 'Buxtehude', 'Bernstein']\n",
    "list.sort()\n",
    "print(list)\n",
    "#To find which word comes first and last\n",
    "print(\"The composer that comes first in the dictionary is: \", list[0])\n",
    "print(\"The composer that comes last in the dictionary is: \", list[len(list)-1])"
   ]
  },
  {
   "cell_type": "markdown",
   "id": "28c06646",
   "metadata": {},
   "source": [
    "3)Implement function triangleArea(a,b,c) that takes as input the lengths of the 3\n",
    "sides of a triangle and returns the area of the triangle. By Heron's formula, the area \n",
    "of a triangle with side lengths a, b, and c is\n",
    "s(s - a)(s -b)(s -c)\n",
    ", where \n",
    "s = (a+b+c)/2. \n",
    "\n",
    "Ans 3) 1.73"
   ]
  },
  {
   "cell_type": "code",
   "execution_count": 28,
   "id": "d5441d13",
   "metadata": {},
   "outputs": [
    {
     "name": "stdout",
     "output_type": "stream",
     "text": [
      "The valus of a is: 2\n",
      "The valus of b is: 2\n",
      "The valus of c is: 2\n",
      "Value of S is: 3.0\n",
      "Area of triangle is: 1.7320508075688772\n"
     ]
    }
   ],
   "source": [
    "import math\n",
    "def triangle_area(a,b,c):  \n",
    "    float (s)\n",
    "a = float(input(\"The valus of a is: \"))\n",
    "b = float(input(\"The valus of b is: \"))\n",
    "c = float(input(\"The valus of c is: \"))\n",
    "# Calculate semi-perimeter s\n",
    "s = (a + b + c) / 2\n",
    "print(\"Value of S is:\",(s))\n",
    "      \n",
    "#Calculate Area of triangle\n",
    "triangle_area = math.sqrt(s * (s - a)*(s - b)*(s - c))\n",
    "print(\"Area of triangle is:\" , triangle_area)"
   ]
  },
  {
   "cell_type": "markdown",
   "id": "1c771177",
   "metadata": {},
   "source": [
    "4) Write a program in python to separate odd and even integers in separate arrays. Go \n",
    "to the editor"
   ]
  },
  {
   "cell_type": "code",
   "execution_count": 2,
   "id": "0fbcd73d",
   "metadata": {},
   "outputs": [
    {
     "name": "stdout",
     "output_type": "stream",
     "text": [
      " The no. of elements in the array: 5\n",
      "Element : 25\n",
      "Element : 47\n",
      "Element : 42\n",
      "Element : 56\n",
      "Element : 32\n",
      "The even elements are:  [42, 56, 32]\n",
      "The odd elements are:  [25, 47]\n"
     ]
    }
   ],
   "source": [
    "odd_array = []\n",
    "even_array = []\n",
    "Total = int(input(\" The no. of elements in the array: \" ))\n",
    "#Getting the range from 0 till number mentioned in Total\n",
    "for number in range(0,Total):\n",
    "    element = int(input(\"Element : \"))\n",
    "    #Dividing number into odd or even arrays\n",
    "    if (element % 2) == 0:\n",
    "        even_array.append(element)\n",
    "    else:\n",
    "        odd_array.append(element)\n",
    "print(\"The even elements are: \", even_array)\n",
    "print(\"The odd elements are: \", odd_array)"
   ]
  },
  {
   "cell_type": "markdown",
   "id": "adc8a8f5",
   "metadata": {},
   "source": [
    "5) Write a function inside(x,y,x1,y1,x2,y2) that returns True or False \n",
    "depending on whether the point (x,y) lies in the rectangle with lower left \n",
    "corner (x1,y1) and upper right corner (x2,y2)"
   ]
  },
  {
   "cell_type": "code",
   "execution_count": 5,
   "id": "2a08819c",
   "metadata": {},
   "outputs": [
    {
     "name": "stdout",
     "output_type": "stream",
     "text": [
      "Enter Value of x:1\n",
      "Enter Value of Y:1\n",
      "Enter Value of X1:0\n",
      "Enter Value of Y1:0\n",
      "Enter Value of X2:2\n",
      "Enter Value of Y2:3\n",
      "Section 5a:  True\n",
      "Section 5b:  False\n",
      "Section 5c:  True\n"
     ]
    }
   ],
   "source": [
    "x = float(input('Enter Value of x:'))\n",
    "y = float(input('Enter Value of Y:'))\n",
    "x1 = float(input('Enter Value of X1:'))\n",
    "y1 = float(input('Enter Value of Y1:'))\n",
    "x2 = float(input('Enter Value of X2:'))\n",
    "y2 = float(input('Enter Value of Y2:'))\n",
    "\n",
    "def inside(x,y,x1,y1,x2,y2):\n",
    "    #Specifying the value of x and y to determine where they will lie\n",
    "    if x >= x1 and x <= x2 and y >= y1 and y <=y2 :\n",
    "        return True\n",
    "    else:\n",
    "        return False\n",
    "print('Section 5a: ', inside(x,y,x1,y1,x2,y2))\n",
    "print('Section 5b: ', inside(1,1,0.3,0.5,1.1,0.7))\n",
    "print('Section 5c: ', inside(1,1,0.5,0.2,1.1,2))"
   ]
  },
  {
   "cell_type": "markdown",
   "id": "e9556980",
   "metadata": {},
   "source": [
    "6)Write a function pig() that takes a word (i.e., a string) as input and returns its pig\u0002Latin form. Your function \n",
    "should still work if the input word contains upper case characters. Your output should always be lower case however."
   ]
  },
  {
   "cell_type": "code",
   "execution_count": 13,
   "id": "09437e4a",
   "metadata": {},
   "outputs": [
    {
     "name": "stdout",
     "output_type": "stream",
     "text": [
      "appyhay\n",
      "enterway\n"
     ]
    }
   ],
   "source": [
    "def pig(word_new):\n",
    "        word= word_new[0]\n",
    "    # Differentiating word starting with vowels and consonants\n",
    "        if word.lower() in 'aeiou':\n",
    "            word_new = word_new.lower() +\"way\"\n",
    "            return word_new\n",
    "        else:\n",
    "            word_new = word_new[1:].lower()+word.lower() + \"ay\"\n",
    "            return word_new\n",
    "print(pig(\"Happy\"))\n",
    "print(pig(\"Enter\"))"
   ]
  },
  {
   "cell_type": "markdown",
   "id": "e39aabdc",
   "metadata": {},
   "source": [
    "7) File bloodtype1.txt records blood-types of patients (A, B, AB, O or OO) at a clinic. \n",
    "Write a function bldcount() that reads the file with name name and reports (i.e., \n",
    "prints) how many patients there are in each bloodtype"
   ]
  },
  {
   "cell_type": "code",
   "execution_count": 7,
   "id": "bce34f13",
   "metadata": {},
   "outputs": [
    {
     "name": "stdout",
     "output_type": "stream",
     "text": [
      "There are 15 patients of blood type A.\n",
      "There are 1 patients of blood type B.\n",
      "There are 13 patients of blood type AB.\n",
      "There are 15 patients of blood type O.\n",
      "There are 0 patients of blood type OO.\n",
      "None\n"
     ]
    }
   ],
   "source": [
    "def bldcount(file):\n",
    "    #Opening and reading the file\n",
    "    info = open(file,'r')\n",
    "    word= info.readline()\n",
    "    patient_count = []\n",
    "    bloodtype= ['A','B','AB','O','OO']\n",
    "   #Reads the count of blood types from file and adds it \n",
    "    patient_count.append(word.split(\" \"))\n",
    "    for bt in bloodtype:\n",
    "        print(\"There are {} patients of blood type {}.\".format(patient_count[0].count(bt), bt))\n",
    "\n",
    "print(bldcount('bldtype.txt'))\n",
    "\n"
   ]
  },
  {
   "cell_type": "markdown",
   "id": "9ee74aca",
   "metadata": {},
   "source": [
    "8) Write a function curconv() that takes as input:\n",
    "1. a currency represented using a string (e.g., 'JPY' for the Japanese Yen or \n",
    "'EUR' for the Euro)\n",
    "2. an amount\n",
    "and then converts and returns the amount in US dollars."
   ]
  },
  {
   "cell_type": "code",
   "execution_count": 25,
   "id": "6b2f79e1",
   "metadata": {},
   "outputs": [
    {
     "name": "stdout",
     "output_type": "stream",
     "text": [
      "122.96544\n",
      "1.241401\n"
     ]
    }
   ],
   "source": [
    "def curconv(cur,amnt):\n",
    "    currency = {}\n",
    "   #Opening file Currencies.txt \n",
    "    file = open('Currencies.txt')\n",
    "    doc = file.readlines()\n",
    "    #Convertion of currency to US$\n",
    "    for x in doc:\n",
    "        currency[x[:3].strip()] = x[4:].split(\"\\t\")\n",
    "    value = currency[cur][0].strip()\n",
    "    print(amnt * float(value))\n",
    "    \n",
    "curconv('EUR', 100)  \n",
    "curconv('JPY', 100)"
   ]
  },
  {
   "cell_type": "markdown",
   "id": "d1f34ec0",
   "metadata": {},
   "source": [
    "9) Trying to add incompatible variables, as in adding 6 + ‘a’\n",
    "   Referring to the 12th item of a list that has only 10 items\n",
    "   Using a value that is out of range for a function’s input, such as calling math.sqrt(-1.0)\n",
    "   Using an undeclared variable, such as print(x)when x has not been defined \n",
    "   Trying to open a file that does not exist, such as mistyping the file name or looking in the wrong directory."
   ]
  },
  {
   "cell_type": "markdown",
   "id": "28cb7048",
   "metadata": {},
   "source": [
    "Ans 9) *TypeError: unsupported operand type(s) for +: 'int' and 'str',\n",
    "                                                                                                                                            *IndexError: list index out of range,\n",
    "                                                                                                                                                * ValueError: math domain error,\n",
    "                                                                                                                                                   *NameError: name 'x' is not defined,\n",
    "                                                                                                                                                        * FileNotFoundError: [Errno 2] No such file or directory:\n",
    "       "
   ]
  },
  {
   "cell_type": "markdown",
   "id": "6a1643cd",
   "metadata": {},
   "source": [
    "10) Write a function called frequencies that takes a string as its only parameter, and returns a list of integers, showing the \n",
    "number of times each character appears in the text. Your function may ignore any characters that are not in letters. "
   ]
  },
  {
   "cell_type": "code",
   "execution_count": 18,
   "id": "3c2191ce",
   "metadata": {},
   "outputs": [
    {
     "name": "stdout",
     "output_type": "stream",
     "text": [
      "[1, 1, 1, 3, 5, 1, 1, 2, 1, 0, 1, 0, 1, 2, 4, 0, 1, 2, 0, 2, 1, 0, 1, 1, 0, 0]\n",
      "[1, 0, 0, 0, 1, 0, 0, 0, 0, 0, 0, 1, 0, 0, 0, 2, 0, 0, 0, 0, 0, 0, 0, 0, 0, 0]\n"
     ]
    }
   ],
   "source": [
    "def frequencies(string):\n",
    "    letters = 'abcdefghijklmnopqrstuvwxyz'\n",
    "    \n",
    "    #Creat dictionary\n",
    "    alphabets = {'a':0,'b':0,'c':0,'d':0,'e':0,'f':0,'g':0,'h':0,'i':0,'j':0,'k':0,'l':0,'m':0,\n",
    "                 'n':0,'o':0,'p':0,'q':0,'r':0,'s':0,'t':0,'u':0,'v':0,'w':0,'x':0,'y':0,'z':0}\n",
    "    \n",
    "    for i in string:\n",
    "        if(i in letters):\n",
    "            alphabets[i] +=1\n",
    "    my_list = []\n",
    "    for i in alphabets.values():\n",
    "        my_list.append(i)\n",
    "        \n",
    "    return my_list\n",
    "      \n",
    "print(frequencies(\"The quick red fox got bored and went home.\"))\n",
    "print(frequencies('apple'))"
   ]
  }
 ],
 "metadata": {
  "kernelspec": {
   "display_name": "Python 3 (ipykernel)",
   "language": "python",
   "name": "python3"
  },
  "language_info": {
   "codemirror_mode": {
    "name": "ipython",
    "version": 3
   },
   "file_extension": ".py",
   "mimetype": "text/x-python",
   "name": "python",
   "nbconvert_exporter": "python",
   "pygments_lexer": "ipython3",
   "version": "3.9.12"
  }
 },
 "nbformat": 4,
 "nbformat_minor": 5
}
